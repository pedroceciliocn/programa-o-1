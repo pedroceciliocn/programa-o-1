{
 "cells": [
  {
   "cell_type": "code",
   "execution_count": 1,
   "metadata": {},
   "outputs": [],
   "source": [
    "import re\n",
    "import pandas as pd\n",
    "import numpy as np"
   ]
  },
  {
   "cell_type": "markdown",
   "metadata": {},
   "source": [
    "O arquivo “titanic.txt” disponibiliza informações dos passageiros que embarcaram no navio. Faça a\n",
    "leitura deste arquivo e, em seguida, armazene em um outro arquivo (“sobreviventes.txt”) o nome, o\n",
    "sexo e a idade dos passageiros que sobreviveram. Ao encerrar o programa, mostre na tela a\n",
    "quantidade de homens e mulheres sobreviventes bem como a média da idade deles (independente\n",
    "do sexo)."
   ]
  },
  {
   "cell_type": "code",
   "execution_count": 25,
   "metadata": {},
   "outputs": [
    {
     "name": "stdout",
     "output_type": "stream",
     "text": [
      "93 197 28.343689655172415\n"
     ]
    }
   ],
   "source": [
    "# Titanic = pd.read_csv('titanic.txt', skiprows= 11, header = None, names = column_names, usecols = [2, 3, 4, 5], skip_footer = 38)\n",
    "\n",
    "Titanic = pd.read_csv('titanic.txt')\n",
    "# Titanic.head()\n",
    "\n",
    "Titanic = Titanic[Titanic['Survived'] == 1]\n",
    "Titanic = Titanic.loc[:,['Survived', 'Name', 'Sex', 'Age']]\n",
    "\n",
    "# Titanic['Sex'].unique()\n",
    "man_count = Titanic[Titanic['Sex'] == 'male']\n",
    "man_count = man_count['Sex'].count()\n",
    "woman_count = Titanic[Titanic['Sex'] == 'female']\n",
    "woman_count = woman_count['Sex'].count()\n",
    "mean_age = Titanic['Age'].mean()\n",
    "# Titanic.head()\n",
    "\n",
    "print(man_count,\n",
    "woman_count,\n",
    "mean_age)\n",
    "\n",
    "\n",
    "# np.savetxt(r'/home/pedro/Documentos/programação_1/arquivos e exceções/titanic_filtrado.txt', Titanic.values, fmt='%d', delimiter=',')\n",
    "\n",
    "column_names = ['Survived', 'Name', 'Sex', 'Age']\n",
    "Titanic.to_csv(r'/home/pedro/Documentos/programação_1/arquivos e exceções/titanic_filtrado.txt', header = column_names, index=None, sep=',', mode='a')"
   ]
  }
 ],
 "metadata": {
  "kernelspec": {
   "display_name": "Python 3",
   "language": "python",
   "name": "python3"
  },
  "language_info": {
   "codemirror_mode": {
    "name": "ipython",
    "version": 3
   },
   "file_extension": ".py",
   "mimetype": "text/x-python",
   "name": "python",
   "nbconvert_exporter": "python",
   "pygments_lexer": "ipython3",
   "version": "3.8.5"
  }
 },
 "nbformat": 4,
 "nbformat_minor": 4
}
