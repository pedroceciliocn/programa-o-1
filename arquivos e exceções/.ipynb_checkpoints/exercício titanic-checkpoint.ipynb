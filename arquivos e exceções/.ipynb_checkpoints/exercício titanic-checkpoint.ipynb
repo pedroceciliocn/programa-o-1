{
 "cells": [
  {
   "cell_type": "code",
   "execution_count": 27,
   "metadata": {},
   "outputs": [],
   "source": [
    "import re\n",
    "import pandas as pd\n",
    "import numpy as np"
   ]
  },
  {
   "cell_type": "markdown",
   "metadata": {},
   "source": [
    "O arquivo “titanic.txt” disponibiliza informações dos passageiros que embarcaram no navio. Faça a\n",
    "leitura deste arquivo e, em seguida, armazene em um outro arquivo (“sobreviventes.txt”) o nome, o\n",
    "sexo e a idade dos passageiros que sobreviveram. Ao encerrar o programa, mostre na tela a\n",
    "quantidade de homens e mulheres sobreviventes bem como a média da idade deles (independente\n",
    "do sexo)."
   ]
  },
  {
   "cell_type": "code",
   "execution_count": 75,
   "metadata": {},
   "outputs": [
    {
     "ename": "TypeError",
     "evalue": "'method' object is not subscriptable",
     "output_type": "error",
     "traceback": [
      "\u001b[0;31m---------------------------------------------------------------------------\u001b[0m",
      "\u001b[0;31mTypeError\u001b[0m                                 Traceback (most recent call last)",
      "\u001b[0;32m<ipython-input-75-411fc6c9f097>\u001b[0m in \u001b[0;36m<module>\u001b[0;34m\u001b[0m\n\u001b[1;32m      8\u001b[0m \u001b[0;31m# Titanic = Titanic.reset_index()\u001b[0m\u001b[0;34m\u001b[0m\u001b[0;34m\u001b[0m\u001b[0;34m\u001b[0m\u001b[0m\n\u001b[1;32m      9\u001b[0m \u001b[0;31m# Titanic = Titanic.set_index(['Name'])\u001b[0m\u001b[0;34m\u001b[0m\u001b[0;34m\u001b[0m\u001b[0;34m\u001b[0m\u001b[0m\n\u001b[0;32m---> 10\u001b[0;31m \u001b[0mTitanic\u001b[0m \u001b[0;34m=\u001b[0m \u001b[0mTitanic\u001b[0m\u001b[0;34m.\u001b[0m\u001b[0mdrop\u001b[0m\u001b[0;34m[\u001b[0m\u001b[0;36m0\u001b[0m\u001b[0;34m]\u001b[0m\u001b[0;34m\u001b[0m\u001b[0;34m\u001b[0m\u001b[0m\n\u001b[0m\u001b[1;32m     11\u001b[0m \u001b[0;34m\u001b[0m\u001b[0m\n\u001b[1;32m     12\u001b[0m \u001b[0;31m# Titanic['Sex'].unique()\u001b[0m\u001b[0;34m\u001b[0m\u001b[0;34m\u001b[0m\u001b[0;34m\u001b[0m\u001b[0m\n",
      "\u001b[0;31mTypeError\u001b[0m: 'method' object is not subscriptable"
     ]
    }
   ],
   "source": [
    "# Titanic = pd.read_csv('titanic.txt', skiprows= 11, header = None, names = column_names, usecols = [2, 3, 4, 5], skip_footer = 38)\n",
    "\n",
    "Titanic = pd.read_csv('titanic.txt')\n",
    "# Titanic.head()\n",
    "\n",
    "Titanic = Titanic[Titanic['Survived'] == 1]\n",
    "Titanic = Titanic.loc[:,['Name', 'Sex', 'Age']]\n",
    "# Titanic = Titanic.reset_index()\n",
    "# Titanic = Titanic.set_index(['Name'])\n",
    "\n",
    "# Titanic['Sex'].unique()\n",
    "man_count = Titanic[Titanic['Sex'] == 'male']\n",
    "man_count = man_count['Sex'].count()\n",
    "woman_count = Titanic[Titanic['Sex'] == 'female']\n",
    "woman_count = woman_count['Sex'].count()\n",
    "mean_age = Titanic['Age'].mean()\n",
    "# Titanic.head()\n",
    "\n",
    "print(man_count, woman_count, mean_age)\n",
    "print(Titanic.head())\n",
    "\n",
    "# np.savetxt(r'/home/pedro/Documentos/programação_1/arquivos e exceções/titanic_filtrado.txt', Titanic.values, fmt='%d', delimiter=',')\n",
    "\n",
    "column_names = ['Name', 'Sex', 'Age']\n",
    "Titanic.to_csv(r'/home/pedro/Documentos/programação_1/arquivos e exceções/titanic_filtrado.txt', header = column_names, index=None, sep=',', mode='a')\n",
    "Titanic.to_csv(r'/home/pedro/Documentos/programação_1/arquivos e exceções/titanic_filtrado.csv', header = column_names, index=None, sep=',', mode='a')"
   ]
  },
  {
   "cell_type": "code",
   "execution_count": 74,
   "metadata": {},
   "outputs": [],
   "source": [
    "Titanic_CSV = pd.read_csv('titanic_filtrado.csv')  \n",
    "Titanic_CSV.to_html('Titanic.html')  "
   ]
  },
  {
   "cell_type": "code",
   "execution_count": 22,
   "metadata": {},
   "outputs": [
    {
     "name": "stdout",
     "output_type": "stream",
     "text": [
      "Tarefa realizada com sucesso.\n",
      "Homens sobreviventes: 93\n",
      "Mulheres sobreviventes: 197\n",
      "Média de idades dos sobreviventes: 28.34 anos\n"
     ]
    }
   ],
   "source": [
    "fim = False\n",
    "sum_ages = 0\n",
    "total_survived = 0\n",
    "man_survived = 0\n",
    "woman_survived = 0\n",
    "\n",
    "while not fim:\n",
    "    try:\n",
    "        nome_arquivo = 'titanic (cópia).txt'\n",
    "        titanic_original = open(nome_arquivo, 'r')\n",
    "        titanic_novo = open('titanic.novo.txt', 'w')\n",
    "        with titanic_original, titanic_novo:\n",
    "            for passageiro in titanic_original:\n",
    "                PassengerId, Survived, Pclass, Name, Sex, Age, SibSp, Parch, Ticket, Fare, Cabin, Embarked = passageiro.split(sep = ',')\n",
    "                if (Survived) == '1':\n",
    "                    sum_ages += float(Age)\n",
    "                    total_survived += 1\n",
    "                    if (Sex) == 'male':\n",
    "                        man_survived += 1\n",
    "                        titanic_novo.write(f'{Name} {Sex} {Age}\\n')\n",
    "                    else:\n",
    "                        woman_survived += 1\n",
    "                        titanic_novo.write(f'{Name} {Sex} {Age}\\n')\n",
    "    except FileNotFoundError:\n",
    "        print(\"Arquivo informado pelo usuário não encontrado. Digite um nome válido.\")\n",
    "    else:\n",
    "        print(f\"Tarefa realizada com sucesso.\")\n",
    "        print(f\"Homens sobreviventes: {man_survived}\")\n",
    "        print(f\"Mulheres sobreviventes: {woman_survived}\")\n",
    "        print(f\"Média de idades dos sobreviventes: {sum_ages/total_survived:.2f} anos\")\n",
    "        fim = True"
   ]
  }
 ],
 "metadata": {
  "kernelspec": {
   "display_name": "Python 3",
   "language": "python",
   "name": "python3"
  },
  "language_info": {
   "codemirror_mode": {
    "name": "ipython",
    "version": 3
   },
   "file_extension": ".py",
   "mimetype": "text/x-python",
   "name": "python",
   "nbconvert_exporter": "python",
   "pygments_lexer": "ipython3",
   "version": "3.8.5"
  }
 },
 "nbformat": 4,
 "nbformat_minor": 4
}
